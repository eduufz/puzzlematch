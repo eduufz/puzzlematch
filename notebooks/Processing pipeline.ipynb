{
 "cells": [
  {
   "cell_type": "code",
   "execution_count": 1,
   "metadata": {},
   "outputs": [],
   "source": [
    "import sys, os, math\n",
    "sys.path.append('..')\n",
    "\n",
    "import numpy as np\n",
    "import cv2\n",
    "\n",
    "from puzzlematch.processing import Draw, Processor\n",
    "from puzzlematch.hardware import Webcam\n",
    "from puzzlematch.env import Path\n",
    "from puzzlematch.ui import display\n",
    "from puzzlematch import utils"
   ]
  },
  {
   "cell_type": "markdown",
   "metadata": {},
   "source": [
    "# Edges"
   ]
  },
  {
   "cell_type": "code",
   "execution_count": null,
   "metadata": {},
   "outputs": [],
   "source": [
    "cx,cy,s = 320,240,300\n",
    "x,y,w,h = cx-s//2, cy-s//2, s, s\n",
    "\n",
    "camera = Webcam()\n",
    "camera.open()\n",
    "\n",
    "while True:\n",
    "    # Read new frame\n",
    "    frame = camera.read(hflip=True, vflip=True)\n",
    "    \n",
    "    # Crop region of interest\n",
    "    roi = frame[y:y+h,x:x+w]\n",
    "    \n",
    "    # Compute canny edges on each channel\n",
    "    r_edges = Processor.canny_edges(roi, 'r')\n",
    "    g_edges = Processor.canny_edges(roi, 'g')\n",
    "    b_edges = Processor.canny_edges(roi, 'b')\n",
    "    edges = cv2.add(cv2.add(r_edges,g_edges), b_edges)\n",
    "    \n",
    "    # Piece detection based on mask\n",
    "    box = utils.mask_bbox(edges)\n",
    "    if box is not None:\n",
    "        xx,yy,ww,hh = box\n",
    "        xx,yy = xx+x, yy+y\n",
    "        frame = Draw.rectangle(frame, p1=(xx,yy), dims=(ww,hh), color=(0,0,255))\n",
    "    \n",
    "    # Draw\n",
    "    frame = Draw.crosshair(frame, center=(cx,cy), size=s)\n",
    "    r_edges = Draw.text(r_edges, 'Edges on red channel', 'top-left', size=0.4)\n",
    "    g_edges = Draw.text(g_edges, 'Edges on green channel', 'top-left', size=0.4)\n",
    "    b_edges = Draw.text(b_edges, 'Edges on blue channel', 'top-left', size=0.4)\n",
    "    edges   = Draw.text(edges, 'Edges combined', 'top-left', size=0.4)\n",
    "    \n",
    "    # Display\n",
    "    images = [frame, r_edges, g_edges, b_edges, edges]\n",
    "    key = display(images, wait=1)\n",
    "    \n",
    "    if key==27: break\n",
    "        \n",
    "camera.close()\n",
    "cv2.destroyAllWindows()"
   ]
  },
  {
   "cell_type": "markdown",
   "metadata": {},
   "source": [
    "# Clusters"
   ]
  },
  {
   "cell_type": "code",
   "execution_count": null,
   "metadata": {},
   "outputs": [],
   "source": [
    "def x(y): pass\n",
    "cv2.namedWindow('window2')\n",
    "cv2.createTrackbar('k', 'window2', 2, 10, x)\n",
    "\n",
    "cx,cy,s = 320,240,300\n",
    "x,y,w,h = cx-s//2, cy-s//2, s, s\n",
    "\n",
    "camera = Webcam()\n",
    "camera.open()\n",
    "\n",
    "while True:\n",
    "    # Read new frame\n",
    "    frame = camera.read(hflip=True, vflip=True)\n",
    "    \n",
    "    # Crop region of interest\n",
    "    roi = frame[y:y+h,x:x+w]\n",
    "    hsv = Processor.hsv(roi)\n",
    "    bilateral = cv2.bilateralFilter(hsv, 15, 75, 75)\n",
    "    b,g,r = cv2.split(bilateral)\n",
    "    threshb, threshg, threshr = Processor.binarize(b), Processor.binarize(g), Processor.binarize(r)\n",
    "    \n",
    "    # Compute kmeans clusters\n",
    "    k = int(cv2.getTrackbarPos('k', 'window2'))\n",
    "    clusters = Processor.kmeans(bilateral, k)\n",
    "\n",
    "    # Draw\n",
    "    frame = Draw.crosshair(frame, center=(cx,cy), size=s)\n",
    "    bilateral = Draw.text(bilateral, 'Bilateral filter', 'top-left', size=0.4)\n",
    "    clusters  = Draw.text(clusters, 'KMEANS', 'top-left', size=0.4)\n",
    "    \n",
    "    # Display\n",
    "    images = [frame, bilateral, clusters, b,g,r,threshb, threshg, threshr]\n",
    "    key = display(images, wait=1)\n",
    "    if key==27: break\n",
    "        \n",
    "camera.close()\n",
    "cv2.destroyAllWindows()"
   ]
  },
  {
   "cell_type": "markdown",
   "metadata": {},
   "source": [
    "# HSV"
   ]
  },
  {
   "cell_type": "code",
   "execution_count": 2,
   "metadata": {},
   "outputs": [],
   "source": [
    "camera = Webcam()\n",
    "camera.open()"
   ]
  },
  {
   "cell_type": "code",
   "execution_count": 8,
   "metadata": {},
   "outputs": [],
   "source": [
    "def x(y): pass\n",
    "cv2.namedWindow('window0')\n",
    "last_focus_value = 60\n",
    "cv2.createTrackbar('focus', 'window0', last_focus_value, 255, x)\n",
    "\n",
    "cx,cy,s = 320,240,300\n",
    "x,y,w,h = cx-s//2, cy-s//2, s, s\n",
    "\n",
    "angle_history = []\n",
    "record = False\n",
    "extracted = False\n",
    "final_angle= None\n",
    "cropped = None\n",
    "box_hist = []\n",
    "\n",
    "while True:\n",
    "    focus = cv2.getTrackbarPos('focus', 'window0')\n",
    "    if last_focus_value!=focus:\n",
    "        camera.stream.set(cv2.CAP_PROP_FOCUS, focus)\n",
    "        last_focus_value = focus\n",
    "    \n",
    "    # Read new frame\n",
    "    frame = camera.read(hflip=True, vflip=True)\n",
    "    \n",
    "    # Pipeline\n",
    "    roi = frame[y:y+h,x:x+w].copy()\n",
    "    hsv = Processor.hsv(roi)\n",
    "    hsv = cv2.bilateralFilter(hsv, 15, 75, 75)\n",
    "    hue,sat,val = cv2.split(hsv)\n",
    "    mask = Processor.binarize(sat, method=cv2.THRESH_BINARY_INV+cv2.THRESH_OTSU)\n",
    "    mask = cv2.erode(mask, np.ones((3,3),np.uint8), iterations=1)\n",
    "    masked = cv2.bitwise_or(roi, roi, mask=mask)\n",
    "    \n",
    "    try:\n",
    "        # Orientation\n",
    "        contours, hierarchy = cv2.findContours(mask, 1, 2)\n",
    "        contours = contours[0]\n",
    "        xx,yy,ww,hh = cv2.boundingRect(contours)\n",
    "        rect = cv2.minAreaRect(contours)\n",
    "        box = cv2.boxPoints(rect).astype(np.int0)\n",
    "\n",
    "        if extracted:\n",
    "            rotated_mask = Processor.rotate(mask, final_angle)\n",
    "            rotated_masked = Processor.rotate(masked, final_angle)\n",
    "            xxx,yyy,www,hhh = utils.mask_bbox(rotated_mask)\n",
    "            \n",
    "            crop_mask = rotated_mask[yyy:yyy+hhh,xxx:xxx+www]\n",
    "            crop_masked = rotated_masked[yyy:yyy+hhh,xxx:xxx+www]\n",
    "            \n",
    "            if www>hhh: pad1, pad2 = (www-hhh)//2, 0\n",
    "            else: pad1, pad2 = 0, (hhh-www)//2\n",
    "\n",
    "            crop_mask = cv2.copyMakeBorder(crop_mask, pad1, pad1, pad2, pad2, cv2.BORDER_CONSTANT, value=(0,0,0))\n",
    "            crop_masked = cv2.copyMakeBorder(crop_masked, pad1, pad1, pad2, pad2, cv2.BORDER_CONSTANT, value=(0,0,0))\n",
    "                \n",
    "            rot1 = (crop_mask, crop_masked)\n",
    "            rot2 = Processor.rotate(rot1[0], 90), Processor.rotate(rot1[1], 90)\n",
    "            rot3 = Processor.rotate(rot2[0], 90), Processor.rotate(rot2[1], 90)\n",
    "            rot4 = Processor.rotate(rot3[0], 90), Processor.rotate(rot3[1], 90)\n",
    "            cropped = [rot1,rot2,rot3,rot4]\n",
    "            extracted = False\n",
    "    except:\n",
    "        pass\n",
    "    \n",
    "    if record:\n",
    "        angle_history.append(rect[-1])\n",
    "        if len(angle_history)==30:\n",
    "            final_angle = np.mean(angle_history)\n",
    "            extracted = True\n",
    "            record = False\n",
    "            angle_history = []\n",
    "            \n",
    "    # Compute mean contour box\n",
    "    box_hist.append(box)\n",
    "    box_hist = box_hist[-15:]\n",
    "    mean_box = box_hist[0]\n",
    "    for box in box_hist[1:]: mean_box = mean_box+box\n",
    "    mean_box = np.round(mean_box/len(box_hist)).astype(int)\n",
    "\n",
    "    # Draw\n",
    "    frame = Draw.crosshair(frame, center=(cx,cy), size=s, color=(0,255,0), thickness=1)\n",
    "    frame = Draw.text(frame, 'Camera input', 'top-left', size=0.4)\n",
    "    hsv = Draw.text(hsv, 'HSV', 'top-left', size=0.4)\n",
    "    sat = Draw.text(sat, 'Saturation', 'top-left', size=0.4)\n",
    "    mask = Draw.text(mask, 'Mask', 'top-left', size=0.4)\n",
    "    masked = Draw.text(masked, 'Masked ROI', 'top-left', size=0.4)\n",
    "    masked = cv2.rectangle(masked, (xx,yy), (xx+ww,yy+hh), (0,255,0))\n",
    "    masked = cv2.drawContours(masked, [mean_box], 0, (0,0,255))\n",
    "    \n",
    "    # Display\n",
    "    images = [frame, hsv, sat, mask, masked]\n",
    "    images = (images+[c[1] for c in cropped] if cropped is not None else images)\n",
    "    key = display(images, wait=1)\n",
    "    if key==27: break\n",
    "    if key==ord('a'):\n",
    "        record = True\n",
    "        extracted = False\n",
    "        angle_history = []\n",
    "        cropped = None\n",
    "        \n",
    "# camera.close()\n",
    "cv2.destroyAllWindows()"
   ]
  },
  {
   "cell_type": "code",
   "execution_count": null,
   "metadata": {},
   "outputs": [],
   "source": []
  },
  {
   "cell_type": "code",
   "execution_count": null,
   "metadata": {},
   "outputs": [],
   "source": []
  },
  {
   "cell_type": "code",
   "execution_count": 25,
   "metadata": {},
   "outputs": [
    {
     "data": {
      "text/plain": [
       "(42, 35)"
      ]
     },
     "execution_count": 25,
     "metadata": {},
     "output_type": "execute_result"
    }
   ],
   "source": [
    "base = cv2.imread(r\"C:\\Users\\Edward\\Documents\\Proyectos\\PuzzleMatch\\data\\guernica1.jpg\")\n",
    "puzzle_dims = 75,40\n",
    "\n",
    "piece_width = int(base.shape[1]/puzzle_dims[0]*1.5)\n",
    "piece_height = int(base.shape[0]/puzzle_dims[1]*1.5)\n",
    "piece_dims = (piece_width,piece_height)\n",
    "piece_dims"
   ]
  },
  {
   "cell_type": "code",
   "execution_count": 32,
   "metadata": {},
   "outputs": [
    {
     "data": {
      "text/plain": [
       "27"
      ]
     },
     "execution_count": 32,
     "metadata": {},
     "output_type": "execute_result"
    }
   ],
   "source": [
    "piece = cropped[0][1].copy()\n",
    "piece = cv2.resize(piece, (piece_width,piece_width))\n",
    "\n",
    "display([base, piece])"
   ]
  },
  {
   "cell_type": "code",
   "execution_count": 39,
   "metadata": {},
   "outputs": [],
   "source": [
    "mask,piece = cropped[0]\n",
    "mask = cv2.resize(mask, (piece_width,piece_width))\n",
    "piece = cv2.resize(piece, (piece_width,piece_width))\n",
    "\n",
    "res = cv2.matchTemplate(base_image, template, cv2.TM_SQDIFF, mask=mask)"
   ]
  },
  {
   "cell_type": "code",
   "execution_count": 50,
   "metadata": {},
   "outputs": [
    {
     "data": {
      "text/plain": [
       "27"
      ]
     },
     "execution_count": 50,
     "metadata": {},
     "output_type": "execute_result"
    }
   ],
   "source": [
    "display(res.astype(np.uint8))"
   ]
  },
  {
   "cell_type": "code",
   "execution_count": null,
   "metadata": {},
   "outputs": [],
   "source": []
  },
  {
   "cell_type": "code",
   "execution_count": null,
   "metadata": {},
   "outputs": [],
   "source": []
  },
  {
   "cell_type": "code",
   "execution_count": null,
   "metadata": {},
   "outputs": [],
   "source": []
  },
  {
   "cell_type": "code",
   "execution_count": 18,
   "metadata": {},
   "outputs": [
    {
     "data": {
      "text/plain": [
       "27"
      ]
     },
     "execution_count": 18,
     "metadata": {},
     "output_type": "execute_result"
    }
   ],
   "source": [
    "def grid(dims, size):\n",
    "    w,h = dims\n",
    "    grid_w, grid_h = size\n",
    "    cell_w, cell_h = w/grid_w, h/grid_h\n",
    "    grid = []\n",
    "\n",
    "    for row in range(grid_h):\n",
    "        for col in range(grid_w):\n",
    "            xx = round(cell_w*col)\n",
    "            yy = round(cell_h*row)\n",
    "            grid.append((xx,yy,int(cell_w),int(cell_h)))\n",
    "\n",
    "    return grid\n",
    "\n",
    "tiles = grid(dims=image_size, size=puzzle_size)\n",
    "for tile in tiles:\n",
    "    x,y,w,h = tile\n",
    "    base = Draw.rectangle(base, p1=(x,y), dims=(w,h))\n",
    "    \n",
    "# base = Processor.scale(base, 0.7)\n",
    "display(base)"
   ]
  },
  {
   "cell_type": "code",
   "execution_count": 15,
   "metadata": {},
   "outputs": [
    {
     "data": {
      "text/plain": [
       "27"
      ]
     },
     "execution_count": 15,
     "metadata": {},
     "output_type": "execute_result"
    }
   ],
   "source": [
    "display(cropped[0][0])"
   ]
  },
  {
   "cell_type": "code",
   "execution_count": null,
   "metadata": {},
   "outputs": [],
   "source": []
  },
  {
   "cell_type": "code",
   "execution_count": null,
   "metadata": {},
   "outputs": [],
   "source": []
  },
  {
   "cell_type": "code",
   "execution_count": null,
   "metadata": {},
   "outputs": [],
   "source": []
  }
 ],
 "metadata": {
  "kernelspec": {
   "display_name": "Python 3",
   "language": "python",
   "name": "python3"
  },
  "language_info": {
   "codemirror_mode": {
    "name": "ipython",
    "version": 3
   },
   "file_extension": ".py",
   "mimetype": "text/x-python",
   "name": "python",
   "nbconvert_exporter": "python",
   "pygments_lexer": "ipython3",
   "version": "3.7.6"
  }
 },
 "nbformat": 4,
 "nbformat_minor": 4
}
