{
 "cells": [
  {
   "cell_type": "code",
   "execution_count": 1,
   "metadata": {},
   "outputs": [],
   "source": [
    "import sys, os\n",
    "sys.path.append('..')\n",
    "\n",
    "import numpy as np\n",
    "import cv2\n",
    "\n",
    "from puzzlehack.processing import Draw, Processor\n",
    "from puzzlehack.env import Path\n",
    "from puzzlehack.ui import Window\n",
    "from puzzlehack import utils"
   ]
  },
  {
   "cell_type": "code",
   "execution_count": 2,
   "metadata": {},
   "outputs": [],
   "source": [
    "filelist = Path.listfiles(Path.DATA, fullpath=True)"
   ]
  },
  {
   "cell_type": "code",
   "execution_count": 17,
   "metadata": {},
   "outputs": [],
   "source": [
    "image = cv2.imread(filelist[1])\n",
    "image = Processor.scale(image,0.5)\n",
    "# edges = Processor.canny_edges(image,'b')\n",
    "\n",
    "# x,y,w,h = utils.mask_bbox(edges)\n",
    "# image = Draw.rectangle(image, p1=(x,y), dims=(w,h), color=(0,255,0), thickness=0)\n",
    "\n",
    "hsv = Processor.hsv(image)\n",
    "channels = cv2.split(hsv)\n",
    "\n",
    "for ch in channels:\n",
    "    Window.view(b, scale=0.5)"
   ]
  },
  {
   "cell_type": "code",
   "execution_count": 56,
   "metadata": {},
   "outputs": [],
   "source": [
    "image = cv2.imread(filelist[1])\n",
    "image = Processor.scale(image,0.2)\n",
    "\n",
    "gray = cv2.cvtColor(image, cv2.COLOR_BGR2GRAY)\n",
    "edges = cv2.Canny(gray, 30, 200)\n",
    "x,y,w,h = utils.mask_bbox(edges)\n",
    "piece = image[y:y+h,x:x+w]\n",
    "piece_edges = edges[y:y+h,x:x+w]\n",
    "\n",
    "Window.view(piece_edges, scale=1)"
   ]
  },
  {
   "cell_type": "code",
   "execution_count": 70,
   "metadata": {},
   "outputs": [],
   "source": [
    "image = cv2.imread(filelist[1])\n",
    "image = Processor.scale(image,0.2)\n",
    "\n",
    "gray = cv2.cvtColor(image, cv2.COLOR_BGR2GRAY)\n",
    "smooth = cv2.GaussianBlur(gray, (7,7), 1)\n",
    "_,thresh = cv2.threshold(smooth, 130, 255, cv2.THRESH_BINARY_INV)\n",
    "\n",
    "piece = image[y:y+h,x:x+w]\n",
    "\n",
    "Window.view(thresh, scale=1)"
   ]
  },
  {
   "cell_type": "code",
   "execution_count": null,
   "metadata": {},
   "outputs": [],
   "source": []
  },
  {
   "cell_type": "code",
   "execution_count": null,
   "metadata": {},
   "outputs": [],
   "source": []
  },
  {
   "cell_type": "code",
   "execution_count": null,
   "metadata": {},
   "outputs": [],
   "source": []
  }
 ],
 "metadata": {
  "kernelspec": {
   "display_name": "Python 3",
   "language": "python",
   "name": "python3"
  },
  "language_info": {
   "codemirror_mode": {
    "name": "ipython",
    "version": 3
   },
   "file_extension": ".py",
   "mimetype": "text/x-python",
   "name": "python",
   "nbconvert_exporter": "python",
   "pygments_lexer": "ipython3",
   "version": "3.7.6"
  }
 },
 "nbformat": 4,
 "nbformat_minor": 4
}
