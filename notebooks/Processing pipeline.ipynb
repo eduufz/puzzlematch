{
 "cells": [
  {
   "cell_type": "code",
   "execution_count": 1,
   "metadata": {},
   "outputs": [],
   "source": [
    "import sys, os\n",
    "sys.path.append('..')\n",
    "\n",
    "import numpy as np\n",
    "import cv2\n",
    "\n",
    "from puzzlematch.processing import Draw, Processor\n",
    "from puzzlematch.hardware import Webcam\n",
    "from puzzlematch.env import Path\n",
    "from puzzlematch.ui import display\n",
    "from puzzlematch import utils"
   ]
  },
  {
   "cell_type": "markdown",
   "metadata": {},
   "source": [
    "# Edges"
   ]
  },
  {
   "cell_type": "code",
   "execution_count": null,
   "metadata": {},
   "outputs": [],
   "source": [
    "cx,cy,s = 320,240,300\n",
    "x,y,w,h = cx-s//2, cy-s//2, s, s\n",
    "\n",
    "camera = Webcam()\n",
    "camera.open()\n",
    "\n",
    "while True:\n",
    "    # Read new frame\n",
    "    frame = camera.read(hflip=True, vflip=True)\n",
    "    \n",
    "    # Crop region of interest\n",
    "    roi = frame[y:y+h,x:x+w]\n",
    "    \n",
    "    # Compute canny edges on each channel\n",
    "    r_edges = Processor.canny_edges(roi, 'r')\n",
    "    g_edges = Processor.canny_edges(roi, 'g')\n",
    "    b_edges = Processor.canny_edges(roi, 'b')\n",
    "    edges = cv2.add(cv2.add(r_edges,g_edges), b_edges)\n",
    "    \n",
    "    # Piece detection based on mask\n",
    "    box = utils.mask_bbox(edges)\n",
    "    if box is not None:\n",
    "        xx,yy,ww,hh = box\n",
    "        xx,yy = xx+x, yy+y\n",
    "        frame = Draw.rectangle(frame, p1=(xx,yy), dims=(ww,hh), color=(0,0,255))\n",
    "    \n",
    "    # Draw\n",
    "    frame = Draw.crosshair(frame, center=(cx,cy), size=s)\n",
    "    r_edges = Draw.text(r_edges, 'Edges on red channel', 'top-left', size=0.4)\n",
    "    g_edges = Draw.text(g_edges, 'Edges on green channel', 'top-left', size=0.4)\n",
    "    b_edges = Draw.text(b_edges, 'Edges on blue channel', 'top-left', size=0.4)\n",
    "    edges   = Draw.text(edges, 'Edges combined', 'top-left', size=0.4)\n",
    "    \n",
    "    # Display\n",
    "    images = [frame, r_edges, g_edges, b_edges, edges]\n",
    "    key = display(images, wait=1)\n",
    "    \n",
    "    if key==27: break\n",
    "        \n",
    "camera.close()\n",
    "cv2.destroyAllWindows()"
   ]
  },
  {
   "cell_type": "markdown",
   "metadata": {},
   "source": [
    "# Clusters"
   ]
  },
  {
   "cell_type": "code",
   "execution_count": null,
   "metadata": {},
   "outputs": [],
   "source": [
    "def x(y): pass\n",
    "cv2.namedWindow('window2')\n",
    "cv2.createTrackbar('k', 'window2', 2, 10, x)\n",
    "\n",
    "cx,cy,s = 320,240,300\n",
    "x,y,w,h = cx-s//2, cy-s//2, s, s\n",
    "\n",
    "camera = Webcam()\n",
    "camera.open()\n",
    "\n",
    "while True:\n",
    "    # Read new frame\n",
    "    frame = camera.read(hflip=True, vflip=True)\n",
    "    \n",
    "    # Crop region of interest\n",
    "    roi = frame[y:y+h,x:x+w]\n",
    "    bilateral = cv2.bilateralFilter(roi, 15, 75, 75)\n",
    "    \n",
    "    # Compute kmeans clusters\n",
    "    k = int(cv2.getTrackbarPos('k', 'window2'))\n",
    "    clusters = Processor.kmeans(bilateral, k)\n",
    "\n",
    "    # Draw\n",
    "    frame = Draw.crosshair(frame, center=(cx,cy), size=s)\n",
    "    bilateral = Draw.text(bilateral, 'Bilateral filter', 'top-left', size=0.4)\n",
    "    clusters  = Draw.text(clusters, 'KMEANS', 'top-left', size=0.4)\n",
    "    \n",
    "    # Display\n",
    "    images = [frame, bilateral, clusters]\n",
    "    key = display(images, wait=1)\n",
    "    if key==27: break\n",
    "        \n",
    "camera.close()\n",
    "cv2.destroyAllWindows()"
   ]
  },
  {
   "cell_type": "markdown",
   "metadata": {},
   "source": [
    "# HSV"
   ]
  },
  {
   "cell_type": "code",
   "execution_count": 12,
   "metadata": {},
   "outputs": [],
   "source": [
    "# def x(y): pass\n",
    "# cv2.namedWindow('window2')\n",
    "# cv2.createTrackbar('k', 'window2', 2, 10, x)\n",
    "\n",
    "cx,cy,s = 320,240,300\n",
    "x,y,w,h = cx-s//2, cy-s//2, s, s\n",
    "\n",
    "camera = Webcam()\n",
    "camera.open()\n",
    "\n",
    "while True:\n",
    "    # Read new frame\n",
    "    frame = camera.read(hflip=True, vflip=True)\n",
    "    \n",
    "    # Pipeline\n",
    "    roi = frame[y:y+h,x:x+w].copy()\n",
    "    hsv = Processor.hsv(roi)\n",
    "    hsv = cv2.GaussianBlur(hsv, (7,7), 1)\n",
    "    hue,_,_ = cv2.split(hsv)\n",
    "    mask = Processor.binarize(hue)\n",
    "    mask = cv2.erode(mask, np.ones((3,3),np.uint8), iterations=1)\n",
    "    masked = cv2.bitwise_or(roi, roi, mask=mask)\n",
    "\n",
    "    # Draw\n",
    "    frame = Draw.crosshair(frame, center=(cx,cy), size=s)\n",
    "    roi = Draw.text(roi, 'ROI', 'top-left', size=0.4)\n",
    "    hue = Draw.text(hue, 'Hue (in HSV colorspace)', 'top-left', size=0.4)\n",
    "    mask = Draw.text(mask, 'Mask', 'top-left', size=0.4)\n",
    "    masked = Draw.text(masked, 'Masked ROI', 'top-left', size=0.4)\n",
    "    \n",
    "    # Display\n",
    "    images = [frame, roi, hue, mask, masked]\n",
    "    key = display(images, wait=1)\n",
    "    if key==27: break\n",
    "        \n",
    "camera.close()\n",
    "cv2.destroyAllWindows()"
   ]
  },
  {
   "cell_type": "code",
   "execution_count": null,
   "metadata": {},
   "outputs": [],
   "source": []
  }
 ],
 "metadata": {
  "kernelspec": {
   "display_name": "Python 3",
   "language": "python",
   "name": "python3"
  },
  "language_info": {
   "codemirror_mode": {
    "name": "ipython",
    "version": 3
   },
   "file_extension": ".py",
   "mimetype": "text/x-python",
   "name": "python",
   "nbconvert_exporter": "python",
   "pygments_lexer": "ipython3",
   "version": "3.7.6"
  }
 },
 "nbformat": 4,
 "nbformat_minor": 4
}
