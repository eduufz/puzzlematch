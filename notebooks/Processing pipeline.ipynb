{
 "cells": [
  {
   "cell_type": "code",
   "execution_count": 1,
   "metadata": {},
   "outputs": [],
   "source": [
    "import sys, os\n",
    "sys.path.append('..')\n",
    "\n",
    "import numpy as np\n",
    "import cv2\n",
    "\n",
    "from puzzlematch.processing import Draw, Processor\n",
    "from puzzlematch.hardware import Webcam\n",
    "from puzzlematch.env import Path\n",
    "from puzzlematch.ui import display\n",
    "from puzzlematch import utils"
   ]
  },
  {
   "cell_type": "code",
   "execution_count": 2,
   "metadata": {},
   "outputs": [],
   "source": [
    "cx,cy,s = 320,240,200\n",
    "x,y,w,h = cx-s//2, cy-s//2, s, s\n",
    "\n",
    "camera = Webcam()\n",
    "camera.open()\n",
    "\n",
    "while True:\n",
    "    frame = camera.read(hflip=True, vflip=True)\n",
    "    \n",
    "    roi = frame[y:y+h,x:x+w]\n",
    "    \n",
    "    # Draw\n",
    "    frame = Draw.crosshair(frame, center=(cx,cy), size=200)\n",
    "    \n",
    "    # Display\n",
    "    display(roi, wait=1, name='roi')\n",
    "    key = display(frame, wait=1, name='video')\n",
    "    if key==27: break\n",
    "        \n",
    "camera.close()\n",
    "cv2.destroyAllWindows()"
   ]
  },
  {
   "cell_type": "code",
   "execution_count": null,
   "metadata": {},
   "outputs": [],
   "source": []
  },
  {
   "cell_type": "code",
   "execution_count": null,
   "metadata": {},
   "outputs": [],
   "source": []
  },
  {
   "cell_type": "code",
   "execution_count": null,
   "metadata": {},
   "outputs": [],
   "source": []
  },
  {
   "cell_type": "code",
   "execution_count": null,
   "metadata": {},
   "outputs": [],
   "source": []
  },
  {
   "cell_type": "code",
   "execution_count": null,
   "metadata": {},
   "outputs": [],
   "source": []
  }
 ],
 "metadata": {
  "kernelspec": {
   "display_name": "Python 3",
   "language": "python",
   "name": "python3"
  },
  "language_info": {
   "codemirror_mode": {
    "name": "ipython",
    "version": 3
   },
   "file_extension": ".py",
   "mimetype": "text/x-python",
   "name": "python",
   "nbconvert_exporter": "python",
   "pygments_lexer": "ipython3",
   "version": "3.7.6"
  }
 },
 "nbformat": 4,
 "nbformat_minor": 4
}
